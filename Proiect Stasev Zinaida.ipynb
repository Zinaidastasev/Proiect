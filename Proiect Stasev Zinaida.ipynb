{
 "cells": [
  {
   "cell_type": "code",
   "execution_count": 4,
   "id": "0b3d34dc",
   "metadata": {},
   "outputs": [],
   "source": [
    "import webbrowser\n",
    "fisier = open(\"paginiweb.txt.txt\", \"r\")\n",
    "liniiFisier = fisier.read().splitlines()\n",
    "\n",
    "fisier.close()\n",
    "for linie in liniiFisier:\n",
    " webbrowser.open(linie)"
   ]
  },
  {
   "cell_type": "code",
   "execution_count": null,
   "id": "e797da7a",
   "metadata": {},
   "outputs": [],
   "source": []
  }
 ],
 "metadata": {
  "kernelspec": {
   "display_name": "Python 3",
   "language": "python",
   "name": "python3"
  },
  "language_info": {
   "codemirror_mode": {
    "name": "ipython",
    "version": 3
   },
   "file_extension": ".py",
   "mimetype": "text/x-python",
   "name": "python",
   "nbconvert_exporter": "python",
   "pygments_lexer": "ipython3",
   "version": "3.7.9"
  }
 },
 "nbformat": 4,
 "nbformat_minor": 5
}
